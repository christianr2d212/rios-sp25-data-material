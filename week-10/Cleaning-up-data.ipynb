{
 "cells": [
  {
   "cell_type": "code",
   "execution_count": 2,
   "id": "5cd4a8b2-cbdb-443b-aab5-6a56612605f4",
   "metadata": {},
   "outputs": [
    {
     "name": "stdout",
     "output_type": "stream",
     "text": [
      "(6, 5)\n",
      "(5, 4)\n",
      "            University  total_students  undergrad_percent  grad_percent  \\\n",
      "0  Stanford University           16937               65.2          34.8   \n",
      "1   harvard university           20050               62.8          37.2   \n",
      "2                MIT             11376               54.5          45.5   \n",
      "3                 Yale           12060               58.3          41.7   \n",
      "4   harvard university           20050               62.8          37.2   \n",
      "\n",
      "   International students  \n",
      "0                    3984  \n",
      "1                    5726  \n",
      "2                    3787  \n",
      "3                    2841  \n",
      "4                    5726  \n",
      "            university  undergrad_tuition  grad_tuition  Average_financial_aid\n",
      "0  Stanford University              56169         54315                  52030\n",
      "1   harvard university              54002         51654                  53604\n",
      "2                MIT                55878         58240                  48264\n",
      "3                 Yale              59950         45700                  55879\n",
      "4          UC Berkeley              14226         14226                  23736\n"
     ]
    }
   ],
   "source": [
    "import pandas as pd\n",
    "\n",
    "# Load both sheets\n",
    "enrollment_df = pd.read_excel('university_data.xlsx', sheet_name='Enrollment')\n",
    "tuition_df = pd.read_excel('university_data.xlsx', sheet_name='Tuition')\n",
    "\n",
    "# View basic information\n",
    "print(enrollment_df.shape)  # Check number of rows and columns\n",
    "print(tuition_df.shape)\n",
    "\n",
    "# Preview the data\n",
    "print(enrollment_df.head())\n",
    "print(tuition_df.head())\n"
   ]
  },
  {
   "cell_type": "code",
   "execution_count": 4,
   "id": "28d6b122-8f1b-4ba4-a779-766a1d7169ed",
   "metadata": {},
   "outputs": [
    {
     "name": "stdout",
     "output_type": "stream",
     "text": [
      "Index(['University', 'total_students', 'undergrad_percent', 'grad_percent',\n",
      "       'International students'],\n",
      "      dtype='object')\n",
      "Index(['university', 'undergrad_tuition', 'grad_tuition',\n",
      "       'Average_financial_aid'],\n",
      "      dtype='object')\n",
      "University                 object\n",
      "total_students              int64\n",
      "undergrad_percent         float64\n",
      "grad_percent              float64\n",
      "International students      int64\n",
      "dtype: object\n",
      "university               object\n",
      "undergrad_tuition         int64\n",
      "grad_tuition              int64\n",
      "Average_financial_aid     int64\n",
      "dtype: object\n"
     ]
    }
   ],
   "source": [
    "# Examine column names\n",
    "print(enrollment_df.columns)\n",
    "print(tuition_df.columns)\n",
    "\n",
    "# Check data types\n",
    "print(enrollment_df.dtypes)\n",
    "print(tuition_df.dtypes)\n"
   ]
  },
  {
   "cell_type": "code",
   "execution_count": 6,
   "id": "95cf5751-553a-453f-a578-70619c3f4ac2",
   "metadata": {},
   "outputs": [
    {
     "name": "stdout",
     "output_type": "stream",
     "text": [
      "0    False\n",
      "1    False\n",
      "2    False\n",
      "3    False\n",
      "4     True\n",
      "5    False\n",
      "dtype: bool\n",
      "Duplicate rows in enrollment data:\n",
      "           University  total_students  undergrad_percent  grad_percent  \\\n",
      "4  harvard university           20050               62.8          37.2   \n",
      "\n",
      "   International students  \n",
      "4                    5726  \n",
      "0    False\n",
      "1    False\n",
      "2    False\n",
      "3    False\n",
      "4    False\n",
      "dtype: bool\n",
      "Duplicate rows in tuition data:\n",
      "Empty DataFrame\n",
      "Columns: [university, undergrad_tuition, grad_tuition, Average_financial_aid]\n",
      "Index: []\n"
     ]
    }
   ],
   "source": [
    "# Check for duplicate rows in the enrollment dataframe\n",
    "print(enrollment_df.duplicated())\n",
    "print(\"Duplicate rows in enrollment data:\")\n",
    "print(enrollment_df[enrollment_df.duplicated()])\n",
    "\n",
    "\n",
    "# Check for duplicate rows in the tuition dataframe\n",
    "print(tuition_df.duplicated())\n",
    "print(\"Duplicate rows in tuition data:\")\n",
    "print(tuition_df[tuition_df.duplicated()])\n"
   ]
  },
  {
   "cell_type": "code",
   "execution_count": 8,
   "id": "bc553635-341e-4d59-9fb2-a8879865ae47",
   "metadata": {},
   "outputs": [
    {
     "name": "stdout",
     "output_type": "stream",
     "text": [
      "Column: University\n",
      "['Stanford University' 'harvard university' 'MIT  ' '  Yale' 'UC Berkeley']\n",
      "---\n",
      "Column: total_students\n",
      "[16937 20050 11376 12060 42501]\n",
      "---\n",
      "Column: undergrad_percent\n",
      "[65.2 62.8 54.5 58.3 71.5]\n",
      "---\n",
      "Column: grad_percent\n",
      "[34.8 37.2 45.5 41.7 28.5]\n",
      "---\n",
      "Column: International students\n",
      "[3984 5726 3787 2841 6763]\n",
      "---\n",
      "Column: university\n",
      "['Stanford University' 'harvard university' 'MIT  ' '  Yale' 'UC Berkeley']\n",
      "---\n",
      "Column: undergrad_tuition\n",
      "[56169 54002 55878 59950 14226]\n",
      "---\n",
      "Column: grad_tuition\n",
      "[54315 51654 58240 45700 14226]\n",
      "---\n",
      "Column: Average_financial_aid\n",
      "[52030 53604 48264 55879 23736]\n",
      "---\n"
     ]
    }
   ],
   "source": [
    "# Check unique values in all columns\n",
    "for column in enrollment_df.columns:\n",
    "    print(f\"Column: {column}\")\n",
    "    print(enrollment_df[column].unique())\n",
    "    print(\"---\")\n",
    "\n",
    "for column in tuition_df.columns:\n",
    "    print(f\"Column: {column}\")\n",
    "    print(tuition_df[column].unique())\n",
    "    print(\"---\")\n"
   ]
  },
  {
   "cell_type": "code",
   "execution_count": 11,
   "id": "b290a337-0411-4529-8c44-81d7dab77bb8",
   "metadata": {},
   "outputs": [
    {
     "name": "stdout",
     "output_type": "stream",
     "text": [
      "Index(['university', 'total_students', 'undergrad_percent', 'grad_percent',\n",
      "       'international_students'],\n",
      "      dtype='object')\n",
      "Index(['university', 'undergradtuition', 'gradtuition', 'averagefinancialaid'], dtype='object')\n"
     ]
    }
   ],
   "source": [
    "# Strip whitespace, standardize case, replace multiple spaces in column names\n",
    "enrollment_df.columns = [col.strip().lower().replace('   ', '_').replace(' ', '_') for col in enrollment_df.columns]\n",
    "tuition_df.columns = [col.strip().lower().replace('_', '').replace(' ', '_') for col in tuition_df.columns]\n",
    "\n",
    "print(enrollment_df.columns)\n",
    "print(tuition_df.columns)\n"
   ]
  },
  {
   "cell_type": "code",
   "execution_count": 16,
   "id": "6fc5781c-df45-42d0-80f0-fbc980df2cf1",
   "metadata": {},
   "outputs": [
    {
     "name": "stdout",
     "output_type": "stream",
     "text": [
      "            university  total_students  undergrad_percent  grad_percent  \\\n",
      "0  Stanford University           16937               65.2          34.8   \n",
      "1   harvard university           20050               62.8          37.2   \n",
      "2                MIT             11376               54.5          45.5   \n",
      "3                 Yale           12060               58.3          41.7   \n",
      "5          UC Berkeley           42501               71.5          28.5   \n",
      "\n",
      "   international_students  \n",
      "0                    3984  \n",
      "1                    5726  \n",
      "2                    3787  \n",
      "3                    2841  \n",
      "5                    6763  \n"
     ]
    }
   ],
   "source": [
    "# Remove duplicate rows based on a column\n",
    "enrollment_df = enrollment_df.drop_duplicates(subset=['university'])\n",
    "\n",
    "\n",
    "print(enrollment_df)"
   ]
  },
  {
   "cell_type": "code",
   "execution_count": 18,
   "id": "ee26dfb1-252d-43e7-aeb0-bb8a5a33d754",
   "metadata": {},
   "outputs": [],
   "source": [
    "# Merge the enrollment and tuition data on the cleaned university name\n",
    "merged_df = pd.merge(\n",
    "    enrollment_df,\n",
    "    tuition_df,\n",
    "    on='university',\n",
    "    how='outer'  # Use outer join to keep all universities from both sheets\n",
    ")\n"
   ]
  },
  {
   "cell_type": "code",
   "execution_count": 20,
   "id": "f659ba2a-02d7-423d-9bef-aff20706c444",
   "metadata": {},
   "outputs": [],
   "source": [
    "# Save the data to CSV file\n",
    "merged_df.to_csv('university_data_merged.csv', index=False)\n"
   ]
  },
  {
   "cell_type": "code",
   "execution_count": 22,
   "id": "b3d6162a-f6a1-4c15-80e0-0de463fee263",
   "metadata": {},
   "outputs": [
    {
     "data": {
      "text/html": [
       "<div>\n",
       "<style scoped>\n",
       "    .dataframe tbody tr th:only-of-type {\n",
       "        vertical-align: middle;\n",
       "    }\n",
       "\n",
       "    .dataframe tbody tr th {\n",
       "        vertical-align: top;\n",
       "    }\n",
       "\n",
       "    .dataframe thead th {\n",
       "        text-align: right;\n",
       "    }\n",
       "</style>\n",
       "<table border=\"1\" class=\"dataframe\">\n",
       "  <thead>\n",
       "    <tr style=\"text-align: right;\">\n",
       "      <th></th>\n",
       "      <th>university</th>\n",
       "      <th>total_students</th>\n",
       "      <th>undergrad_percent</th>\n",
       "      <th>grad_percent</th>\n",
       "      <th>international_students</th>\n",
       "      <th>undergradtuition</th>\n",
       "      <th>gradtuition</th>\n",
       "      <th>averagefinancialaid</th>\n",
       "    </tr>\n",
       "  </thead>\n",
       "  <tbody>\n",
       "    <tr>\n",
       "      <th>0</th>\n",
       "      <td>Yale</td>\n",
       "      <td>12060</td>\n",
       "      <td>58.3</td>\n",
       "      <td>41.7</td>\n",
       "      <td>2841</td>\n",
       "      <td>59950</td>\n",
       "      <td>45700</td>\n",
       "      <td>55879</td>\n",
       "    </tr>\n",
       "    <tr>\n",
       "      <th>1</th>\n",
       "      <td>MIT</td>\n",
       "      <td>11376</td>\n",
       "      <td>54.5</td>\n",
       "      <td>45.5</td>\n",
       "      <td>3787</td>\n",
       "      <td>55878</td>\n",
       "      <td>58240</td>\n",
       "      <td>48264</td>\n",
       "    </tr>\n",
       "    <tr>\n",
       "      <th>2</th>\n",
       "      <td>Stanford University</td>\n",
       "      <td>16937</td>\n",
       "      <td>65.2</td>\n",
       "      <td>34.8</td>\n",
       "      <td>3984</td>\n",
       "      <td>56169</td>\n",
       "      <td>54315</td>\n",
       "      <td>52030</td>\n",
       "    </tr>\n",
       "    <tr>\n",
       "      <th>3</th>\n",
       "      <td>UC Berkeley</td>\n",
       "      <td>42501</td>\n",
       "      <td>71.5</td>\n",
       "      <td>28.5</td>\n",
       "      <td>6763</td>\n",
       "      <td>14226</td>\n",
       "      <td>14226</td>\n",
       "      <td>23736</td>\n",
       "    </tr>\n",
       "    <tr>\n",
       "      <th>4</th>\n",
       "      <td>harvard university</td>\n",
       "      <td>20050</td>\n",
       "      <td>62.8</td>\n",
       "      <td>37.2</td>\n",
       "      <td>5726</td>\n",
       "      <td>54002</td>\n",
       "      <td>51654</td>\n",
       "      <td>53604</td>\n",
       "    </tr>\n",
       "  </tbody>\n",
       "</table>\n",
       "</div>"
      ],
      "text/plain": [
       "            university  total_students  undergrad_percent  grad_percent  \\\n",
       "0                 Yale           12060               58.3          41.7   \n",
       "1                MIT             11376               54.5          45.5   \n",
       "2  Stanford University           16937               65.2          34.8   \n",
       "3          UC Berkeley           42501               71.5          28.5   \n",
       "4   harvard university           20050               62.8          37.2   \n",
       "\n",
       "   international_students  undergradtuition  gradtuition  averagefinancialaid  \n",
       "0                    2841             59950        45700                55879  \n",
       "1                    3787             55878        58240                48264  \n",
       "2                    3984             56169        54315                52030  \n",
       "3                    6763             14226        14226                23736  \n",
       "4                    5726             54002        51654                53604  "
      ]
     },
     "execution_count": 22,
     "metadata": {},
     "output_type": "execute_result"
    }
   ],
   "source": [
    "merged_df"
   ]
  },
  {
   "cell_type": "code",
   "execution_count": null,
   "id": "64d69cb1-6c53-4e0b-83c4-dd4aaa673d08",
   "metadata": {},
   "outputs": [],
   "source": []
  }
 ],
 "metadata": {
  "kernelspec": {
   "display_name": "Python [conda env:base] *",
   "language": "python",
   "name": "conda-base-py"
  },
  "language_info": {
   "codemirror_mode": {
    "name": "ipython",
    "version": 3
   },
   "file_extension": ".py",
   "mimetype": "text/x-python",
   "name": "python",
   "nbconvert_exporter": "python",
   "pygments_lexer": "ipython3",
   "version": "3.12.7"
  }
 },
 "nbformat": 4,
 "nbformat_minor": 5
}
