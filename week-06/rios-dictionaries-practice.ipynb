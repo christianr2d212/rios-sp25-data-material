{
 "cells": [
  {
   "cell_type": "markdown",
   "id": "54b35700-dbb8-4aee-90ed-d2b502b7a415",
   "metadata": {},
   "source": [
    "create a dictionary "
   ]
  },
  {
   "cell_type": "code",
   "execution_count": 2,
   "id": "6fed0ff2-ea3e-4811-ab78-98055e7e265d",
   "metadata": {},
   "outputs": [
    {
     "name": "stdout",
     "output_type": "stream",
     "text": [
      "{'Patrick Murphy': 45, 'Mary Kelly': 23, 'Thomas Williams': 16, 'Elizabeth Smith': 34}\n"
     ]
    }
   ],
   "source": [
    "# A list of names\n",
    "names_list=[\"Patrick Murphy\", \"Mary Kelly\", \"Thomas Williams\", \"Elizabeth Smith\"]\n",
    "\n",
    "# A list of ages\n",
    "ages_list = [45, 23, 16, 34, 64]\n",
    "\n",
    "# A dictionary of names and ages\n",
    "ages_dict = {\n",
    "    \"Patrick Murphy\": 45,\n",
    "    \"Mary Kelly\": 23,\n",
    "    \"Thomas Williams\": 16,\n",
    "    \"Elizabeth Smith\": 34,\n",
    "}\n",
    "print(ages_dict)"
   ]
  },
  {
   "cell_type": "markdown",
   "id": "707186f0-6ce0-43f9-97ae-dfe245b7e426",
   "metadata": {},
   "source": [
    "creating ma own dictionary"
   ]
  },
  {
   "cell_type": "code",
   "execution_count": 9,
   "id": "cea88576-4202-4e94-9cce-0de2bd4477fd",
   "metadata": {},
   "outputs": [
    {
     "name": "stdout",
     "output_type": "stream",
     "text": [
      "{'Tator Swift': 35, 'Olivia Rodrigo': 22, 'Tom Hanks': 68, 'Meryl Streep': 75}\n"
     ]
    }
   ],
   "source": [
    "celebrity_ages = {\n",
    "    \"Tator Swift\": 35,\n",
    "    \"Olivia Rodrigo\": 22,\n",
    "    \"Tom Hanks\": 68,\n",
    "    \"Meryl Streep\": 75\n",
    "}\n",
    "print(celebrity_ages)"
   ]
  },
  {
   "cell_type": "markdown",
   "id": "4ce04d9c-59ae-43a6-9187-6426f3655fe9",
   "metadata": {},
   "source": [
    "printing olivia rodirfgo's age"
   ]
  },
  {
   "cell_type": "code",
   "execution_count": 12,
   "id": "5dbe27a8-a796-475c-9ad8-d3675613ac73",
   "metadata": {},
   "outputs": [
    {
     "name": "stdout",
     "output_type": "stream",
     "text": [
      "Olivia Rodrigo's age: 22\n"
     ]
    }
   ],
   "source": [
    "print(f\"Olivia Rodrigo's age: {celebrity_ages['Olivia Rodrigo']}\")"
   ]
  },
  {
   "cell_type": "code",
   "execution_count": 17,
   "id": "d9bc4421-aa13-472e-a05b-fb87a5471cc7",
   "metadata": {},
   "outputs": [
    {
     "name": "stdout",
     "output_type": "stream",
     "text": [
      "{'Patrick Murphy': 45, 'Mary Kelly': 23, 'Thomas Williams': 16, 'Elizabeth Smith': 34, 'Michael Sullivan': 64}\n"
     ]
    }
   ],
   "source": [
    "#adding new person to ages dict\n",
    "\n",
    "ages_dict[\"Michael Sullivan\"] = 64\n",
    "print(ages_dict)"
   ]
  },
  {
   "cell_type": "markdown",
   "id": "96776251-e116-43cf-8015-38fc4cd74138",
   "metadata": {},
   "source": [
    "adding another celeb to the celeb ages dictionary"
   ]
  },
  {
   "cell_type": "code",
   "execution_count": 37,
   "id": "41145682-b08f-4ef3-a62f-389ff479001a",
   "metadata": {},
   "outputs": [
    {
     "name": "stdout",
     "output_type": "stream",
     "text": [
      "{'Tator Swift': 35, 'Olivia Rodrigo': 21, 'Tom Hanks': 68, 'Meryl Streep': 75, 'Demi Moore': 62, '32': 32, 'Charli XCX': 32}\n"
     ]
    }
   ],
   "source": [
    "celebrity_ages[\"Charli XCX\"] = 32\n",
    "#change a celebrity age\n",
    "\n",
    "celebrity_ages[\"Olivia Rodrigo\"] = 21\n",
    "\n",
    "print(celebrity_ages)"
   ]
  },
  {
   "cell_type": "markdown",
   "id": "1698b42f-e815-4445-b3ef-1b693796c629",
   "metadata": {},
   "source": []
  },
  {
   "cell_type": "code",
   "execution_count": null,
   "id": "bf404315-28be-48d8-9fd6-1d8d2ba198db",
   "metadata": {},
   "outputs": [],
   "source": [
    "# Loop through all names and ages\n",
    "for name in ages_dict:\n",
    "    print(f\"{name} is {ages_dict[name]} years old.\")\n",
    "\n",
    "# A more elegant way using the .items() method\n",
    "for name, age in ages_dict.items():\n",
    "    print(f\"{name} is {age} years old.\")\n"
   ]
  },
  {
   "cell_type": "code",
   "execution_count": 39,
   "id": "78052b9b-8edc-4397-bf54-914fbb9852a3",
   "metadata": {},
   "outputs": [
    {
     "name": "stdout",
     "output_type": "stream",
     "text": [
      "Patrick Murphy is 45 years old.\n",
      "Elizabeth Smith is 34 years old.\n",
      "Michael Sullivan is 64 years old.\n"
     ]
    }
   ],
   "source": [
    "# Find all people over 30\n",
    "for name, age in ages_dict.items():\n",
    "    if age > 30:\n",
    "        print(f\"{name} is {age} years old.\")\n"
   ]
  },
  {
   "cell_type": "markdown",
   "id": "f73e80a3-a34e-49d2-8174-7d77746221d9",
   "metadata": {},
   "source": [
    "printing the age cohorts for celebrity_ages"
   ]
  },
  {
   "cell_type": "code",
   "execution_count": 49,
   "id": "405df7c8-56ec-4cdc-98df-29f28d2c5b0c",
   "metadata": {},
   "outputs": [
    {
     "name": "stdout",
     "output_type": "stream",
     "text": [
      "Tator Swift is a Millenial\n",
      "Olivia Rodrigo is a Gen Z'er\n",
      "Tom Hanks is a Boomer\n",
      "Meryl Streep is a Boomer\n",
      "Demi Moore is a Boomer\n",
      "32 is a Millenial\n",
      "Charli XCX is a Millenial\n"
     ]
    }
   ],
   "source": [
    "for name, age in celebrity_ages.items():\n",
    "    if age> 61 and age<=79 :\n",
    "        print(f\"{name} is a Boomer\")\n",
    "    elif age> 29 and age<=44:\n",
    "        print(f\"{name} is a Millenial\")\n",
    "    elif age>=13:\n",
    "        print(f\"{name} is a Gen Z'er\")\n",
    "    "
   ]
  },
  {
   "cell_type": "code",
   "execution_count": 54,
   "id": "237e5447-d22c-408c-a0b4-d6b2243a8e17",
   "metadata": {},
   "outputs": [],
   "source": [
    "# Create one dictionary with all information about each person\n",
    "census_data = {\n",
    "    \"Patrick Murphy\": {\n",
    "        \"age\": 45,\n",
    "        \"birth_place\": \"Ireland\",\n",
    "        \"occupation\": \"farmer\"\n",
    "    },\n",
    "    \"Mary Kelly\": {\n",
    "        \"age\": 23,\n",
    "        \"birth_place\": \"Ireland\",\n",
    "        \"occupation\": \"servant\"\n",
    "    },\n",
    "    \"Thomas Williams\": {\n",
    "        \"age\": 17,\n",
    "        \"birth_place\": \"Wales\",\n",
    "        \"occupation\": \"laborer\"\n",
    "    },\n",
    "    \"Elizabeth Smith\": {\n",
    "    \"age\": 34,\n",
    "    \"birth_place\": \"England\",\n",
    "    \"occupation\": \"servant\"\n",
    "    }\n",
    "}\n"
   ]
  },
  {
   "cell_type": "code",
   "execution_count": 56,
   "id": "6d547cc4-4ea6-4d95-8392-2a2f0919fc97",
   "metadata": {},
   "outputs": [
    {
     "name": "stdout",
     "output_type": "stream",
     "text": [
      "{'age': 45, 'birth_place': 'Ireland', 'occupation': 'farmer'}\n",
      "farmer\n"
     ]
    }
   ],
   "source": [
    "# Access data from our nested dictionary\n",
    "print(census_data[\"Patrick Murphy\"])\n",
    "print(census_data[\"Patrick Murphy\"][\"occupation\"])\n"
   ]
  },
  {
   "cell_type": "code",
   "execution_count": null,
   "id": "fe08b280-53e6-4293-ac73-cf4cbcad9038",
   "metadata": {},
   "outputs": [],
   "source": [
    "# Start with an empty dictionary\n",
    "auto_census = {}\n",
    "\n",
    "# Loop through the lists to create our nested dictionary\n",
    "for i in range(len(names)):\n",
    "    # Extract the data for this person and temporarily put the data into a series of variables\n",
    "    name = names[i]\n",
    "    age = ages[i]\n",
    "    birth_place = birth_places[i]\n",
    "    occupation = occupations[i]\n",
    "\n",
    "    # Create the nested dictionary for this person\n",
    "    auto_census[name] = {\n",
    "        \"age\": age,\n",
    "        \"birth_place\": birth_place,\n",
    "        \"occupation\": occupation\n",
    "    }\n"
   ]
  }
 ],
 "metadata": {
  "kernelspec": {
   "display_name": "Python [conda env:base] *",
   "language": "python",
   "name": "conda-base-py"
  },
  "language_info": {
   "codemirror_mode": {
    "name": "ipython",
    "version": 3
   },
   "file_extension": ".py",
   "mimetype": "text/x-python",
   "name": "python",
   "nbconvert_exporter": "python",
   "pygments_lexer": "ipython3",
   "version": "3.12.7"
  }
 },
 "nbformat": 4,
 "nbformat_minor": 5
}
