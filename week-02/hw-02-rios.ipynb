{
 "cells": [
  {
   "cell_type": "markdown",
   "metadata": {},
   "source": [
    "# Homework 02"
   ]
  },
  {
   "cell_type": "markdown",
   "metadata": {},
   "source": [
    "### ⚠️ Before you start ⚠️ \n",
    "_Duplicate this Jupyter Notebook in your `week-02` folder (right-click -> Duplicate) and then your last name to the beginning of it (ie. `hw-02-blevins.ipynb` - otherwise you risk having all your work overwritten when you try to sync your GitHub repository with your instructor's repository._ "
   ]
  },
  {
   "cell_type": "markdown",
   "metadata": {},
   "source": [
    "⚠️ _No, seriously: check the name of this file. Is it the copy you made? (ie. `hw-02-blevins.ipynb`). If so, you can proceed_ ⚠️"
   ]
  },
  {
   "cell_type": "markdown",
   "metadata": {},
   "source": [
    "---"
   ]
  },
  {
   "cell_type": "markdown",
   "metadata": {
    "tags": []
   },
   "source": [
    "Student Name: *Christian*   \n",
    "(Double-click this cell to type)"
   ]
  },
  {
   "cell_type": "markdown",
   "metadata": {},
   "source": [
    "---\n",
    "This homework assignment will help you review Jupyter Notebooks and Python variables and data types. Answer the questions below and follow the instructions. When you're finished, you should follow [the instructions on the course website](https://cblevins.github.io/sp25-data/assignments/coding-homework/) to submit it to Canvas."
   ]
  },
  {
   "cell_type": "markdown",
   "metadata": {},
   "source": [
    "---"
   ]
  },
  {
   "cell_type": "markdown",
   "metadata": {},
   "source": [
    "## Madlibs with Christine Darden"
   ]
  },
  {
   "cell_type": "markdown",
   "metadata": {},
   "source": [
    "**1.** The cell below contains the first line of Christine Darden's Wikipedia page. Convert this cell to \"Markdown\" and then make the following revisions:\n",
    "1. Make the words \"Christine Darden\" bolded.\n",
    "2. Add a hyperlink to the word \"Wikipedia\" so that when a user clicks on it they will go to her Wikipedia page: https://en.wikipedia.org/wiki/Christine_Darden.\n",
    "3. Add an unordered (bulleted) list of the three universities she attended (her three alma maters listed on her Wikipedia page).\n",
    "\n",
    "(For help, see [Jupyter Tips & Tricks](https://melaniewalsh.github.io/Intro-Cultural-Analytics/02-Python/EXTRA-Jupyter-Tips-Tricks.html))"
   ]
  },
  {
   "cell_type": "markdown",
   "metadata": {},
   "source": [
    "\n",
    "**Christine Darden** (born September 10, 1942, as Christine Mann) is an American mathematician,\n",
    "data analyst, and aeronautical engineer who devoted much of her 40-year career in aerodynamics\n",
    "at NASA to researching supersonic flight and sonic booms.\n",
    "[Wikipedia](https://en.wikipedia.org/wiki/Christine_Darden)\n",
    "\n",
    "Alma Maters:\n",
    "* Hampton University\n",
    "* Virginia State University\n",
    "* George Washington University"
   ]
  },
  {
   "cell_type": "markdown",
   "metadata": {},
   "source": [
    "**2.** Go to Christine Darden's Wikipedia page and find her name, birth year, and occupation. Assign these values to the variables: `name`, `birth_year`, and `occupation`. You should also assign the current year to the variable `current_year`."
   ]
  },
  {
   "cell_type": "code",
   "execution_count": 12,
   "metadata": {},
   "outputs": [],
   "source": [
    "name= \"Christine Darden\"\n",
    "birth_year = 1942\n",
    "occupation = \"Mathematican\"\n",
    "current_year = 2025"
   ]
  },
  {
   "cell_type": "markdown",
   "metadata": {},
   "source": [
    "**3.** Double check to make sure that you have made the right kind of variables. Write four lines of code to print out that the following variable **types**: \n",
    "- `name` is a string\n",
    "- `occupation` is a string\n",
    "- `birth_year` is an integer \n",
    "- `current_year` is an integers"
   ]
  },
  {
   "cell_type": "code",
   "execution_count": 14,
   "metadata": {},
   "outputs": [
    {
     "name": "stdout",
     "output_type": "stream",
     "text": [
      "name is a \n",
      "<class 'str'>\n",
      "\n",
      "occupation is a \n",
      "<class 'str'>\n",
      "\n",
      "birth_year is a \n",
      "<class 'int'>\n",
      "\n",
      "current_year is a \n",
      "<class 'int'>\n"
     ]
    }
   ],
   "source": [
    "name= \"Christine Darden\"\n",
    "birth_year = 1942\n",
    "occupation = \"Mathematican\"\n",
    "current_year = 2025\n",
    "\n",
    "print(\"name is a \")\n",
    "print(type(name))\n",
    "\n",
    "print(\"\\noccupation is a \")\n",
    "print(type(occupation))\n",
    "\n",
    "print(\"\\nbirth_year is a \")\n",
    "print(type(birth_year))\n",
    "\n",
    "print(\"\\ncurrent_year is a \")\n",
    "print(type(current_year))"
   ]
  },
  {
   "cell_type": "markdown",
   "metadata": {},
   "source": [
    "**4.** Calculate Christine Darden's current age in years by using two of the variables above and [a mathematical operator](https://melaniewalsh.github.io/Intro-Cultural-Analytics/02-Python/05-Data-Types.html#integers-floats). (Using this crude method, her calculated age might not match her true age exactly.)"
   ]
  },
  {
   "cell_type": "code",
   "execution_count": 16,
   "metadata": {},
   "outputs": [
    {
     "data": {
      "text/plain": [
       "83"
      ]
     },
     "execution_count": 16,
     "metadata": {},
     "output_type": "execute_result"
    }
   ],
   "source": [
    "current_year - birth_year"
   ]
  },
  {
   "cell_type": "markdown",
   "metadata": {},
   "source": [
    "**5.** Assign the Python expression above to a new variable called `current_age`."
   ]
  },
  {
   "cell_type": "code",
   "execution_count": 18,
   "metadata": {},
   "outputs": [
    {
     "name": "stdout",
     "output_type": "stream",
     "text": [
      "83\n"
     ]
    }
   ],
   "source": [
    "current_age = current_year - birth_year\n",
    "print(current_age)"
   ]
  },
  {
   "cell_type": "markdown",
   "metadata": {},
   "source": [
    "**6.** Use `print()` and **f-strings** to write two sentences about Christine Darden using the variables `name`, `occupation`, `birth year` and `current_age`."
   ]
  },
  {
   "cell_type": "code",
   "execution_count": 20,
   "metadata": {},
   "outputs": [
    {
     "name": "stdout",
     "output_type": "stream",
     "text": [
      "Christine Darden is an 83 year old Mathematican. She was born in 1942.\n"
     ]
    }
   ],
   "source": [
    "print(f\"{name} is an {current_age} year old {occupation}. She was born in {birth_year}.\")"
   ]
  },
  {
   "cell_type": "markdown",
   "metadata": {},
   "source": [
    "## Debugging/Troubleshooting Practice"
   ]
  },
  {
   "cell_type": "markdown",
   "metadata": {},
   "source": [
    "**7.** The code below returns an error message. Fix the error and then run the code so that it prints correctly."
   ]
  },
  {
   "cell_type": "code",
   "execution_count": 23,
   "metadata": {},
   "outputs": [
    {
     "name": "stdout",
     "output_type": "stream",
     "text": [
      "Christine Darden was a Mathematican. She was born in 1942.\n"
     ]
    }
   ],
   "source": [
    "print(f\"{name} was a {occupation}. She was born in {birth_year}.\")"
   ]
  },
  {
   "cell_type": "markdown",
   "metadata": {},
   "source": [
    "**8.** Explain why the code above produced an error message."
   ]
  },
  {
   "cell_type": "markdown",
   "metadata": {},
   "source": [
    "The error code was missing an ending quotation for the string statement. I put quotation mark right after the period so it can print correctly"
   ]
  },
  {
   "cell_type": "markdown",
   "metadata": {},
   "source": [
    "**9.** The code below also doesn't work properly. Fix the problem and then run the code so that it prints correctly."
   ]
  },
  {
   "cell_type": "code",
   "execution_count": 27,
   "metadata": {},
   "outputs": [
    {
     "name": "stdout",
     "output_type": "stream",
     "text": [
      "Christine Darden was a Mathematican. She was born in 1942.\n"
     ]
    }
   ],
   "source": [
    "print(f\"{name} was a {occupation}. She was born in {birth_year}.\")"
   ]
  },
  {
   "cell_type": "markdown",
   "metadata": {},
   "source": [
    "**10.** Explain why the code above produced an error message."
   ]
  },
  {
   "cell_type": "markdown",
   "metadata": {},
   "source": [
    "The print statement needed an f after the first parenthesis since it is using f-strings. (double-click this cell to type inside it)"
   ]
  },
  {
   "cell_type": "markdown",
   "metadata": {},
   "source": [
    "## Bonus"
   ]
  },
  {
   "cell_type": "markdown",
   "metadata": {},
   "source": [
    "Here are some bonus tasks in Python for you to try with Christine Darden:\n",
    "- Try to calculate how many days she's lived (approximately)\n",
    "- Print her name in all capital letters\n",
    "- Print her name in all lowercase letters\n",
    "- Count how many characters are in their name"
   ]
  },
  {
   "cell_type": "code",
   "execution_count": 32,
   "metadata": {},
   "outputs": [
    {
     "name": "stdout",
     "output_type": "stream",
     "text": [
      "Christine Darden\n",
      "CHRISTINE DARDEN\n",
      "christine darden\n"
     ]
    }
   ],
   "source": [
    "print(name)\n",
    "name = name.upper()\n",
    "print(name)\n",
    "print(name.lower())"
   ]
  },
  {
   "cell_type": "markdown",
   "metadata": {},
   "source": [
    "## Submission"
   ]
  },
  {
   "cell_type": "markdown",
   "metadata": {},
   "source": [
    "Follow [the instructions](https://cblevins.github.io/sp25-data/assignments/coding-homework/) I've made for submitting homework and then submit your files on [the Canvas assignment page](https://ucdenver.instructure.com/courses/552717/assignments/1911767) in two files (one `.ipynb` and one `.pdf`).\n",
    "\n",
    "- Save your notebook\n",
    "- `Kernel` -> `Restart Kernel and Run All Cells`\n",
    "- `File` -> `Print` and try to find an option to Save/Print to PDF. Depending on your operating system and browser, this might be `Destination` -> `Save as PDF`, `Select Printer` -> `Microsoft Print to PDF` ([instructions for different browsers](https://xodo.com/blog/how-to-save-webpage-as-pdf)). Name the file with the same naming convention as your .ipynb file (ie. `hw-02-yourlastname.pdf`) and save the resulting PDF file (ending in `.pdf`) into the same folder."
   ]
  },
  {
   "cell_type": "code",
   "execution_count": 5,
   "metadata": {},
   "outputs": [
    {
     "ename": "FileNotFoundError",
     "evalue": "[Errno 2] No such file or directory: '../data/processed/correct_dtypes_merged_fcc_census_1940.csv'",
     "output_type": "error",
     "traceback": [
      "\u001b[0;31m---------------------------------------------------------------------------\u001b[0m",
      "\u001b[0;31mFileNotFoundError\u001b[0m                         Traceback (most recent call last)",
      "Cell \u001b[0;32mIn[5], line 5\u001b[0m\n\u001b[1;32m      2\u001b[0m \u001b[38;5;28;01mimport\u001b[39;00m \u001b[38;5;21;01mplotly\u001b[39;00m\u001b[38;5;21;01m.\u001b[39;00m\u001b[38;5;21;01mexpress\u001b[39;00m \u001b[38;5;28;01mas\u001b[39;00m \u001b[38;5;21;01mpx\u001b[39;00m\n\u001b[1;32m      4\u001b[0m \u001b[38;5;66;03m# 1) Load your processed CSVs\u001b[39;00m\n\u001b[0;32m----> 5\u001b[0m radio_1939_df \u001b[38;5;241m=\u001b[39m pd\u001b[38;5;241m.\u001b[39mread_csv(\u001b[38;5;124m'\u001b[39m\u001b[38;5;124m../data/processed/correct_dtypes_merged_fcc_census_1940.csv\u001b[39m\u001b[38;5;124m'\u001b[39m)\n\u001b[1;32m      6\u001b[0m radio_1950_df \u001b[38;5;241m=\u001b[39m pd\u001b[38;5;241m.\u001b[39mread_csv(\u001b[38;5;124m'\u001b[39m\u001b[38;5;124m../data/processed/correct_dtypes_merged_fcc_census_1950.csv\u001b[39m\u001b[38;5;124m'\u001b[39m)\n\u001b[1;32m      8\u001b[0m \u001b[38;5;66;03m# 2) Rename the raw total columns to a common name\u001b[39;00m\n",
      "File \u001b[0;32m/opt/anaconda3/lib/python3.12/site-packages/pandas/io/parsers/readers.py:1026\u001b[0m, in \u001b[0;36mread_csv\u001b[0;34m(filepath_or_buffer, sep, delimiter, header, names, index_col, usecols, dtype, engine, converters, true_values, false_values, skipinitialspace, skiprows, skipfooter, nrows, na_values, keep_default_na, na_filter, verbose, skip_blank_lines, parse_dates, infer_datetime_format, keep_date_col, date_parser, date_format, dayfirst, cache_dates, iterator, chunksize, compression, thousands, decimal, lineterminator, quotechar, quoting, doublequote, escapechar, comment, encoding, encoding_errors, dialect, on_bad_lines, delim_whitespace, low_memory, memory_map, float_precision, storage_options, dtype_backend)\u001b[0m\n\u001b[1;32m   1013\u001b[0m kwds_defaults \u001b[38;5;241m=\u001b[39m _refine_defaults_read(\n\u001b[1;32m   1014\u001b[0m     dialect,\n\u001b[1;32m   1015\u001b[0m     delimiter,\n\u001b[0;32m   (...)\u001b[0m\n\u001b[1;32m   1022\u001b[0m     dtype_backend\u001b[38;5;241m=\u001b[39mdtype_backend,\n\u001b[1;32m   1023\u001b[0m )\n\u001b[1;32m   1024\u001b[0m kwds\u001b[38;5;241m.\u001b[39mupdate(kwds_defaults)\n\u001b[0;32m-> 1026\u001b[0m \u001b[38;5;28;01mreturn\u001b[39;00m _read(filepath_or_buffer, kwds)\n",
      "File \u001b[0;32m/opt/anaconda3/lib/python3.12/site-packages/pandas/io/parsers/readers.py:620\u001b[0m, in \u001b[0;36m_read\u001b[0;34m(filepath_or_buffer, kwds)\u001b[0m\n\u001b[1;32m    617\u001b[0m _validate_names(kwds\u001b[38;5;241m.\u001b[39mget(\u001b[38;5;124m\"\u001b[39m\u001b[38;5;124mnames\u001b[39m\u001b[38;5;124m\"\u001b[39m, \u001b[38;5;28;01mNone\u001b[39;00m))\n\u001b[1;32m    619\u001b[0m \u001b[38;5;66;03m# Create the parser.\u001b[39;00m\n\u001b[0;32m--> 620\u001b[0m parser \u001b[38;5;241m=\u001b[39m TextFileReader(filepath_or_buffer, \u001b[38;5;241m*\u001b[39m\u001b[38;5;241m*\u001b[39mkwds)\n\u001b[1;32m    622\u001b[0m \u001b[38;5;28;01mif\u001b[39;00m chunksize \u001b[38;5;129;01mor\u001b[39;00m iterator:\n\u001b[1;32m    623\u001b[0m     \u001b[38;5;28;01mreturn\u001b[39;00m parser\n",
      "File \u001b[0;32m/opt/anaconda3/lib/python3.12/site-packages/pandas/io/parsers/readers.py:1620\u001b[0m, in \u001b[0;36mTextFileReader.__init__\u001b[0;34m(self, f, engine, **kwds)\u001b[0m\n\u001b[1;32m   1617\u001b[0m     \u001b[38;5;28mself\u001b[39m\u001b[38;5;241m.\u001b[39moptions[\u001b[38;5;124m\"\u001b[39m\u001b[38;5;124mhas_index_names\u001b[39m\u001b[38;5;124m\"\u001b[39m] \u001b[38;5;241m=\u001b[39m kwds[\u001b[38;5;124m\"\u001b[39m\u001b[38;5;124mhas_index_names\u001b[39m\u001b[38;5;124m\"\u001b[39m]\n\u001b[1;32m   1619\u001b[0m \u001b[38;5;28mself\u001b[39m\u001b[38;5;241m.\u001b[39mhandles: IOHandles \u001b[38;5;241m|\u001b[39m \u001b[38;5;28;01mNone\u001b[39;00m \u001b[38;5;241m=\u001b[39m \u001b[38;5;28;01mNone\u001b[39;00m\n\u001b[0;32m-> 1620\u001b[0m \u001b[38;5;28mself\u001b[39m\u001b[38;5;241m.\u001b[39m_engine \u001b[38;5;241m=\u001b[39m \u001b[38;5;28mself\u001b[39m\u001b[38;5;241m.\u001b[39m_make_engine(f, \u001b[38;5;28mself\u001b[39m\u001b[38;5;241m.\u001b[39mengine)\n",
      "File \u001b[0;32m/opt/anaconda3/lib/python3.12/site-packages/pandas/io/parsers/readers.py:1880\u001b[0m, in \u001b[0;36mTextFileReader._make_engine\u001b[0;34m(self, f, engine)\u001b[0m\n\u001b[1;32m   1878\u001b[0m     \u001b[38;5;28;01mif\u001b[39;00m \u001b[38;5;124m\"\u001b[39m\u001b[38;5;124mb\u001b[39m\u001b[38;5;124m\"\u001b[39m \u001b[38;5;129;01mnot\u001b[39;00m \u001b[38;5;129;01min\u001b[39;00m mode:\n\u001b[1;32m   1879\u001b[0m         mode \u001b[38;5;241m+\u001b[39m\u001b[38;5;241m=\u001b[39m \u001b[38;5;124m\"\u001b[39m\u001b[38;5;124mb\u001b[39m\u001b[38;5;124m\"\u001b[39m\n\u001b[0;32m-> 1880\u001b[0m \u001b[38;5;28mself\u001b[39m\u001b[38;5;241m.\u001b[39mhandles \u001b[38;5;241m=\u001b[39m get_handle(\n\u001b[1;32m   1881\u001b[0m     f,\n\u001b[1;32m   1882\u001b[0m     mode,\n\u001b[1;32m   1883\u001b[0m     encoding\u001b[38;5;241m=\u001b[39m\u001b[38;5;28mself\u001b[39m\u001b[38;5;241m.\u001b[39moptions\u001b[38;5;241m.\u001b[39mget(\u001b[38;5;124m\"\u001b[39m\u001b[38;5;124mencoding\u001b[39m\u001b[38;5;124m\"\u001b[39m, \u001b[38;5;28;01mNone\u001b[39;00m),\n\u001b[1;32m   1884\u001b[0m     compression\u001b[38;5;241m=\u001b[39m\u001b[38;5;28mself\u001b[39m\u001b[38;5;241m.\u001b[39moptions\u001b[38;5;241m.\u001b[39mget(\u001b[38;5;124m\"\u001b[39m\u001b[38;5;124mcompression\u001b[39m\u001b[38;5;124m\"\u001b[39m, \u001b[38;5;28;01mNone\u001b[39;00m),\n\u001b[1;32m   1885\u001b[0m     memory_map\u001b[38;5;241m=\u001b[39m\u001b[38;5;28mself\u001b[39m\u001b[38;5;241m.\u001b[39moptions\u001b[38;5;241m.\u001b[39mget(\u001b[38;5;124m\"\u001b[39m\u001b[38;5;124mmemory_map\u001b[39m\u001b[38;5;124m\"\u001b[39m, \u001b[38;5;28;01mFalse\u001b[39;00m),\n\u001b[1;32m   1886\u001b[0m     is_text\u001b[38;5;241m=\u001b[39mis_text,\n\u001b[1;32m   1887\u001b[0m     errors\u001b[38;5;241m=\u001b[39m\u001b[38;5;28mself\u001b[39m\u001b[38;5;241m.\u001b[39moptions\u001b[38;5;241m.\u001b[39mget(\u001b[38;5;124m\"\u001b[39m\u001b[38;5;124mencoding_errors\u001b[39m\u001b[38;5;124m\"\u001b[39m, \u001b[38;5;124m\"\u001b[39m\u001b[38;5;124mstrict\u001b[39m\u001b[38;5;124m\"\u001b[39m),\n\u001b[1;32m   1888\u001b[0m     storage_options\u001b[38;5;241m=\u001b[39m\u001b[38;5;28mself\u001b[39m\u001b[38;5;241m.\u001b[39moptions\u001b[38;5;241m.\u001b[39mget(\u001b[38;5;124m\"\u001b[39m\u001b[38;5;124mstorage_options\u001b[39m\u001b[38;5;124m\"\u001b[39m, \u001b[38;5;28;01mNone\u001b[39;00m),\n\u001b[1;32m   1889\u001b[0m )\n\u001b[1;32m   1890\u001b[0m \u001b[38;5;28;01massert\u001b[39;00m \u001b[38;5;28mself\u001b[39m\u001b[38;5;241m.\u001b[39mhandles \u001b[38;5;129;01mis\u001b[39;00m \u001b[38;5;129;01mnot\u001b[39;00m \u001b[38;5;28;01mNone\u001b[39;00m\n\u001b[1;32m   1891\u001b[0m f \u001b[38;5;241m=\u001b[39m \u001b[38;5;28mself\u001b[39m\u001b[38;5;241m.\u001b[39mhandles\u001b[38;5;241m.\u001b[39mhandle\n",
      "File \u001b[0;32m/opt/anaconda3/lib/python3.12/site-packages/pandas/io/common.py:873\u001b[0m, in \u001b[0;36mget_handle\u001b[0;34m(path_or_buf, mode, encoding, compression, memory_map, is_text, errors, storage_options)\u001b[0m\n\u001b[1;32m    868\u001b[0m \u001b[38;5;28;01melif\u001b[39;00m \u001b[38;5;28misinstance\u001b[39m(handle, \u001b[38;5;28mstr\u001b[39m):\n\u001b[1;32m    869\u001b[0m     \u001b[38;5;66;03m# Check whether the filename is to be opened in binary mode.\u001b[39;00m\n\u001b[1;32m    870\u001b[0m     \u001b[38;5;66;03m# Binary mode does not support 'encoding' and 'newline'.\u001b[39;00m\n\u001b[1;32m    871\u001b[0m     \u001b[38;5;28;01mif\u001b[39;00m ioargs\u001b[38;5;241m.\u001b[39mencoding \u001b[38;5;129;01mand\u001b[39;00m \u001b[38;5;124m\"\u001b[39m\u001b[38;5;124mb\u001b[39m\u001b[38;5;124m\"\u001b[39m \u001b[38;5;129;01mnot\u001b[39;00m \u001b[38;5;129;01min\u001b[39;00m ioargs\u001b[38;5;241m.\u001b[39mmode:\n\u001b[1;32m    872\u001b[0m         \u001b[38;5;66;03m# Encoding\u001b[39;00m\n\u001b[0;32m--> 873\u001b[0m         handle \u001b[38;5;241m=\u001b[39m \u001b[38;5;28mopen\u001b[39m(\n\u001b[1;32m    874\u001b[0m             handle,\n\u001b[1;32m    875\u001b[0m             ioargs\u001b[38;5;241m.\u001b[39mmode,\n\u001b[1;32m    876\u001b[0m             encoding\u001b[38;5;241m=\u001b[39mioargs\u001b[38;5;241m.\u001b[39mencoding,\n\u001b[1;32m    877\u001b[0m             errors\u001b[38;5;241m=\u001b[39merrors,\n\u001b[1;32m    878\u001b[0m             newline\u001b[38;5;241m=\u001b[39m\u001b[38;5;124m\"\u001b[39m\u001b[38;5;124m\"\u001b[39m,\n\u001b[1;32m    879\u001b[0m         )\n\u001b[1;32m    880\u001b[0m     \u001b[38;5;28;01melse\u001b[39;00m:\n\u001b[1;32m    881\u001b[0m         \u001b[38;5;66;03m# Binary mode\u001b[39;00m\n\u001b[1;32m    882\u001b[0m         handle \u001b[38;5;241m=\u001b[39m \u001b[38;5;28mopen\u001b[39m(handle, ioargs\u001b[38;5;241m.\u001b[39mmode)\n",
      "\u001b[0;31mFileNotFoundError\u001b[0m: [Errno 2] No such file or directory: '../data/processed/correct_dtypes_merged_fcc_census_1940.csv'"
     ]
    }
   ],
   "source": [
    "import pandas as pd\n",
    "import plotly.express as px\n",
    "\n",
    "# 1) Load your processed CSVs\n",
    "radio_1939_df = pd.read_csv('../data/processed/correct_dtypes_merged_fcc_census_1940.csv')\n",
    "radio_1950_df = pd.read_csv('../data/processed/correct_dtypes_merged_fcc_census_1950.csv')\n",
    "\n",
    "# 2) Rename the raw total columns to a common name\n",
    "radio_1939_df = radio_1939_df.rename(columns={'total': 'raw_total',\n",
    "                                              'radio_per_100k': 'radio_per_100k'})\n",
    "radio_1950_df = radio_1950_df.rename(columns={'total radio': 'raw_total',\n",
    "                                              'radio_per_100k': 'radio_per_100k'})\n",
    "\n",
    "# 3) Define the U.S. Census Division map\n",
    "division_map = {\n",
    "    # New England\n",
    "    'Connecticut': 'New England', 'Maine': 'New England',\n",
    "    'Massachusetts': 'New England', 'New Hampshire': 'New England',\n",
    "    'Rhode Island': 'New England', 'Vermont': 'New England',\n",
    "    # Middle Atlantic\n",
    "    'New Jersey': 'Middle Atlantic', 'New York': 'Middle Atlantic',\n",
    "    'Pennsylvania': 'Middle Atlantic',\n",
    "    # East North Central\n",
    "    'Illinois': 'East North Central', 'Indiana': 'East North Central',\n",
    "    'Michigan': 'East North Central', 'Ohio': 'East North Central',\n",
    "    'Wisconsin': 'East North Central',\n",
    "    # West North Central\n",
    "    'Iowa': 'West North Central', 'Kansas': 'West North Central',\n",
    "    'Minnesota': 'West North Central', 'Missouri': 'West North Central',\n",
    "    'Nebraska': 'West North Central',\n",
    "    'North Dakota': 'West North Central', 'South Dakota': 'West North Central',\n",
    "    # South Atlantic\n",
    "    'Delaware': 'South Atlantic', 'Florida': 'South Atlantic',\n",
    "    'Georgia': 'South Atlantic', 'Maryland': 'South Atlantic',\n",
    "    'North Carolina': 'South Atlantic', 'South Carolina': 'South Atlantic',\n",
    "    'Virginia': 'South Atlantic', 'West Virginia': 'South Atlantic',\n",
    "    'District of Columbia': 'South Atlantic',\n",
    "    # East South Central\n",
    "    'Alabama': 'East South Central', 'Kentucky': 'East South Central',\n",
    "    'Mississippi': 'East South Central', 'Tennessee': 'East South Central',\n",
    "    # West South Central\n",
    "    'Arkansas': 'West South Central', 'Louisiana': 'West South Central',\n",
    "    'Oklahoma': 'West South Central', 'Texas': 'West South Central',\n",
    "    # Mountain\n",
    "    'Arizona': 'Mountain', 'Colorado': 'Mountain', 'Idaho': 'Mountain',\n",
    "    'Montana': 'Mountain', 'Nevada': 'Mountain', 'New Mexico': 'Mountain',\n",
    "    'Utah': 'Mountain', 'Wyoming': 'Mountain',\n",
    "    # Pacific\n",
    "    'Alaska': 'Pacific', 'California': 'Pacific', 'Hawaii': 'Pacific',\n",
    "    'Oregon': 'Pacific', 'Washington': 'Pacific'\n",
    "}\n",
    "\n",
    "# 4) Map divisions\n",
    "radio_1939_df['division'] = radio_1939_df['state'].map(division_map)\n",
    "radio_1950_df['division'] = radio_1950_df['state'].map(division_map)\n",
    "\n",
    "# 5) Aggregate raw totals by division and tag the year\n",
    "agg_1939 = (\n",
    "    radio_1939_df\n",
    "    .groupby('division', as_index=False)['raw_total']\n",
    "    .sum()\n",
    "    .assign(year='1939')\n",
    ")\n",
    "agg_1950 = (\n",
    "    radio_1950_df\n",
    "    .groupby('division', as_index=False)['raw_total']\n",
    "    .sum()\n",
    "    .assign(year='1950')\n",
    ")\n",
    "\n",
    "# 6) Combine into long form\n",
    "df_compare = pd.concat([agg_1939, agg_1950], ignore_index=True)\n",
    "\n",
    "# 7) Plot grouped bar chart\n",
    "fig = px.bar(\n",
    "    df_compare,\n",
    "    x='division',\n",
    "    y='raw_total',\n",
    "    color='year',\n",
    "    barmode='group',\n",
    "    title='Raw Total Radio Stations by Census Division: 1939 vs 1950',\n",
    "    labels={\n",
    "        'division': 'Census Division',\n",
    "        'raw_total': 'Raw Total Stations',\n",
    "        'year': 'Year'\n",
    "    },\n",
    "    text='raw_total'\n",
    ")\n",
    "\n",
    "# Optional styling\n",
    "fig.update_traces(textposition='outside')\n",
    "fig.update_layout(\n",
    "    xaxis_tickangle=45,\n",
    "    yaxis_title='Number of Stations',\n",
    "    legend_title_text='Census Year',\n",
    "    margin=dict(t=60, b=150)\n",
    ")\n",
    "\n",
    "fig.show()"
   ]
  },
  {
   "cell_type": "code",
   "execution_count": null,
   "metadata": {},
   "outputs": [],
   "source": []
  }
 ],
 "metadata": {
  "kernelspec": {
   "display_name": "Python [conda env:base] *",
   "language": "python",
   "name": "conda-base-py"
  },
  "language_info": {
   "codemirror_mode": {
    "name": "ipython",
    "version": 3
   },
   "file_extension": ".py",
   "mimetype": "text/x-python",
   "name": "python",
   "nbconvert_exporter": "python",
   "pygments_lexer": "ipython3",
   "version": "3.12.7"
  },
  "toc-autonumbering": false
 },
 "nbformat": 4,
 "nbformat_minor": 4
}
